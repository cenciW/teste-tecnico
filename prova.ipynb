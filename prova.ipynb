{
 "cells": [
  {
   "cell_type": "markdown",
   "metadata": {},
   "source": [
    "## 1) Dado a sequência de Fibonacci, onde se inicia por 0 e 1 e o próximo valor sempre será a soma dos 2 valores anteriores (exemplo: 0, 1, 1, 2, 3, 5, 8, 13, 21, 34...), escreva um programa na linguagem que desejar onde, informado um número, ele calcule a sequência de Fibonacci e retorne uma mensagem avisando se o número informado pertence ou não a sequência."
   ]
  },
  {
   "cell_type": "code",
   "execution_count": 7,
   "metadata": {},
   "outputs": [
    {
     "name": "stdout",
     "output_type": "stream",
     "text": [
      "O número 10 não pertence a sequência de Fibonacci.\n"
     ]
    }
   ],
   "source": [
    "def is_fibonacci(n):\n",
    "    a, b = 0, 1\n",
    "    while b < n:\n",
    "        a, b = b, a + b\n",
    "    return b == n or n == 0\n",
    "\n",
    "\n",
    "\n",
    "number = int(input(\"Digite um número: \"))\n",
    "if is_fibonacci(number):\n",
    "    print(f\"O número {number} pertence a sequência de Fibonacci.\")\n",
    "else:\n",
    "    print(f\"O número {number} não pertence a sequência de Fibonacci.\")\n"
   ]
  },
  {
   "cell_type": "markdown",
   "metadata": {},
   "source": [
    "## 2) Escreva um programa que verifique, em uma string, a existência da letra ‘a’, seja maiúscula ou minúscula, além de informar a quantidade de vezes em que ela ocorre.\n"
   ]
  },
  {
   "cell_type": "code",
   "execution_count": 32,
   "metadata": {},
   "outputs": [
    {
     "name": "stdout",
     "output_type": "stream",
     "text": [
      "A string: [Otorrinolaringologista] contém a letra 'a' 2 vezes.\n"
     ]
    }
   ],
   "source": [
    "# string \n",
    "string = input(\"Digite uma string: \")\n",
    "\n",
    "if string.__contains__('a') or string.__contains__('A'):\n",
    "    count = string.count('a') + string.count('A')\n",
    "    print(f\"A string: [{string}] contém a letra 'a' {count} vezes.\")\n",
    "else:\n",
    "    print(f\"A string: [{string}] não contém a letra 'a'.\")"
   ]
  },
  {
   "cell_type": "markdown",
   "metadata": {},
   "source": [
    "## 3) Observe o trecho de código abaixo:\\n\n",
    ">int INDICE = 12, SOMA = 0, K = 1;  \n",
    ">enquanto K < INDICE faça  \n",
    ">{  \n",
    ">    K = K + 1;  \n",
    ">    SOMA = SOMA + K;  \n",
    ">}  \n",
    ">imprimir(SOMA);  \n",
    "\n",
    ">Ao final do processamento, qual será o valor da variável SOMA?"
   ]
  },
  {
   "cell_type": "markdown",
   "metadata": {},
   "source": [
    "### R) A soma é 77"
   ]
  },
  {
   "cell_type": "markdown",
   "metadata": {},
   "source": [
    "## 4) Descubra a lógica e complete o próximo elemento:\n",
    "> a) 1, 3, 5, 7, __ => R: 9\n",
    "\n",
    "> b) 2, 4, 8, 16, 32, 64, __ => R: 128\n",
    "\n",
    "> c) 0, 1, 4, 9, 16, 25, 36, __ => R: 49 \n",
    "\n",
    "> d) 4, 16, 36, 64, __ => R: 100  \n",
    "\n",
    "> e) 1, 1, 2, 3, 5, 8, __ => R: 13\n",
    "\n",
    "> f) 2, 10, 12, 16, 17, 18, 19, __ => R: 200 (o padrão esperado envolve os números Naturais que começam com a letra D)"
   ]
  },
  {
   "cell_type": "markdown",
   "metadata": {},
   "source": [
    "## 5) Você está em uma sala com três interruptores, cada um conectado a uma lâmpada em salas diferentes. Você não pode ver as lâmpadas da sala em que está, mas pode ligar e desligar os interruptores quantas vezes quiser. Seu objetivo é descobrir qual interruptor controla qual lâmpada. Como você faria para descobrir, usando apenas duas idas até uma das salas das lâmpadas, qual interruptor controla cada lâmpada?  "
   ]
  },
  {
   "cell_type": "markdown",
   "metadata": {},
   "source": [
    "### R: Para simplificar, vamos dividir em interruptor 1, interruptor 2, interruptor 3, e sala X, sala Y, sala Z.\n",
    "> CASO 1: Lâmpada na primeira sala está acesa na primeira ida:\n",
    "    Ligue o Int. 1 e vá para a sala X. Se a lâmpada estiver acesa, o Int. 1 controla a sala X.\n",
    "    Volte e ligue o Int. 2. Vá para a sala Y. Se ela estiver acesa, o Int. 2 controla a sala Y.\n",
    "    Logo, o Int. 3 controla a sala Z.\n",
    "\n",
    ">CASO 2: Lâmpada na primeira sala está apagada, mas acende na segunda ida:\n",
    "    Ligue o Int. 1 e vá para a sala X. Se a lâmpada estiver apagada, volte e ligue o Int. 2.\n",
    "    Vá para a sala X novamente. Se a lâmpada estiver acesa agora, o Int. 2 controla a sala X.\n",
    "    Logo, o Int. 1 controla a sala Y e o Int. 3 controla a sala Z.\n",
    "    \n",
    ">CASO 3: Lâmpada na primeira sala está apagada nas duas idas:\n",
    "    Ligue o Int. 1 e vá para a sala X. Se a lâmpada estiver apagada, volte e ligue o Int. 2.\n",
    "    Se você retornar para a sala X e ela ainda estiver apagada, então o Int. 3 controla a sala X.\n",
    "    Agora, volte e ligue o Int. 1 para testar a sala Y. Se ela estiver acesa, o Int. 1 controla a sala Y.\n",
    "    Logo, o Int. 2 controla a sala Z.\n",
    "    \n",
    ">CASO 4: Lâmpada na primeira sala está apagada, mas a terceira tentativa revela o controle:\n",
    "    Ligue o Int. 1 e vá para a sala X. Se a lâmpada estiver apagada, ligue o Int. 2 e vá para a sala Y.\n",
    "    Se a sala Y estiver acesa, o Int. 2 controla a sala Y.\n",
    "    Logo, o Int. 1 controla a sala Z e o Int. 3 controla a sala X.\n",
    "    Com esses quatro casos, todas as possíveis combinações são cobertas, garantindo que você identifique qual interruptor controla cada lâmpada em até duas idas às salas."
   ]
  }
 ],
 "metadata": {
  "kernelspec": {
   "display_name": "Python 3",
   "language": "python",
   "name": "python3"
  },
  "language_info": {
   "codemirror_mode": {
    "name": "ipython",
    "version": 3
   },
   "file_extension": ".py",
   "mimetype": "text/x-python",
   "name": "python",
   "nbconvert_exporter": "python",
   "pygments_lexer": "ipython3",
   "version": "3.12.6"
  }
 },
 "nbformat": 4,
 "nbformat_minor": 2
}
